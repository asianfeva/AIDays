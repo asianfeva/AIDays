{
  "cells": [
    {
      "metadata": {
        "trusted": true
      },
      "cell_type": "code",
      "source": "import requests",
      "execution_count": null,
      "outputs": []
    },
    {
      "metadata": {},
      "cell_type": "markdown",
      "source": "### Update SearchName, apiKey and indexerName to yours\nYou can fine Search Name, api key from the portal\n\n![searchkey](https://github.com/jakazmie/AIDays/raw/master/DeveloperTrack/03-KnowledgeMining/images/search-key.png)"
    },
    {
      "metadata": {
        "trusted": true
      },
      "cell_type": "code",
      "source": "searchName=\"\"\nurl=\"https://\"+searchName+\".search.windows.net\"\napikey=\"\"\nindexerName=\"\"\napiversion=\"2017-11-11\"\n\nprint(url)",
      "execution_count": null,
      "outputs": []
    },
    {
      "metadata": {
        "trusted": true
      },
      "cell_type": "code",
      "source": "searchheaders={\n            'Content-Type': \"application/json; charset=UTF-8\",\n            'Api-Key': apikey\n        }",
      "execution_count": null,
      "outputs": []
    },
    {
      "metadata": {},
      "cell_type": "markdown",
      "source": "### Update search word to run query\n\nFor exmaple:\n* Microsoft\n* Linux"
    },
    {
      "metadata": {
        "trusted": true
      },
      "cell_type": "code",
      "source": "searchWord=\"\"",
      "execution_count": null,
      "outputs": []
    },
    {
      "metadata": {
        "trusted": true
      },
      "cell_type": "code",
      "source": "queryURL=url+\"/indexes/\"+indexerName+\"/docs?api-version=\"+apiversion+\"&search=\"+searchWord\nprint(queryURL)",
      "execution_count": null,
      "outputs": []
    },
    {
      "metadata": {
        "trusted": true
      },
      "cell_type": "code",
      "source": "resp = requests.get(url=queryURL,headers=searchheaders)\njsonres=resp.json()",
      "execution_count": null,
      "outputs": []
    },
    {
      "metadata": {
        "trusted": true
      },
      "cell_type": "code",
      "source": "print(\"Search results are: \"+ str(len(jsonres['value'])))",
      "execution_count": null,
      "outputs": []
    },
    {
      "metadata": {
        "trusted": true
      },
      "cell_type": "code",
      "source": "for x in jsonres['value']:\n    print(str(x['@search.score']) +\" File Name:\"+ x['metadata_storage_name'])",
      "execution_count": null,
      "outputs": []
    },
    {
      "metadata": {},
      "cell_type": "markdown",
      "source": "Go back to github lab\n\n[05.CleanUp](https://github.com/jakazmie/AIDays/blob/master/DeveloperTrack/03-KnowledgeMining/05Cleanup.md)"
    },
    {
      "metadata": {
        "trusted": true
      },
      "cell_type": "markdown",
      "source": "# End of lab"
    }
  ],
  "metadata": {
    "kernelspec": {
      "name": "python36",
      "display_name": "Python 3.6",
      "language": "python"
    },
    "language_info": {
      "mimetype": "text/x-python",
      "nbconvert_exporter": "python",
      "name": "python",
      "pygments_lexer": "ipython3",
      "version": "3.6.6",
      "file_extension": ".py",
      "codemirror_mode": {
        "version": 3,
        "name": "ipython"
      }
    }
  },
  "nbformat": 4,
  "nbformat_minor": 2
}
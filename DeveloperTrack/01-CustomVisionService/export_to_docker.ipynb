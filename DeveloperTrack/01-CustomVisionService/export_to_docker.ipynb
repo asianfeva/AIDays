{
 "cells": [
  {
   "cell_type": "markdown",
   "metadata": {},
   "source": [
    "# Export the trained model to a Docker image\n",
    "\n",
    "\n",
    "In this section of the lab we will export the trained model to a Docker image. We will use CVS Python SDK to download the export package and Docker CLI to create an image. Then we will deploy the image to Azure Container Instance. \n"
   ]
  },
  {
   "cell_type": "markdown",
   "metadata": {},
   "source": [
    "## Get coordinates of the iteration to export\n",
    "\n",
    "Navigate to **Project Settings** and copy and paste *Project ID* and *Training Key* for the compact domain iteration. Also, cut and paste the name of the iteration which was trained with the compact domain."
   ]
  },
  {
   "cell_type": "markdown",
   "metadata": {},
   "source": [
    "## Export the iteration\n",
    "Exporting a model is a two-step process. First you must request the export. Then when the export is ready you can download the exported package.\n",
    "\n",
    "Before you can request the export you need to retrieve the identfiers of the iteration you want to export.\n",
    "\n",
    "Navigate to **Project Settings** and copy and paste *Project ID* and *Training Key*. Also, cut and paste the name of the iteration which was trained with the compact domain.\n"
   ]
  },
  {
   "cell_type": "code",
   "execution_count": null,
   "metadata": {},
   "outputs": [],
   "source": [
    "#PROJECT_ID = '<your project id>'\n",
    "#TRAINING_ID = '<your training key>'\n",
    "\n",
    "PROJECT_ID = '556e602a-e747-4fb9-b694-63ac2a06cc8d'\n",
    "TRAINING_KEY = 'fc2ca3cbae90475eaa595f8a4dfcda86'\n",
    "ITERATION_NAME = 'Iteration 4'"
   ]
  },
  {
   "cell_type": "markdown",
   "metadata": {},
   "source": [
    "### Request the export"
   ]
  },
  {
   "cell_type": "code",
   "execution_count": null,
   "metadata": {},
   "outputs": [],
   "source": [
    "import azure.cognitiveservices.vision.customvision.training as training_api\n",
    "\n",
    "trainer = training_api.TrainingApi(TRAINING_KEY)\n",
    "\n",
    "# Search through all iterations in the project\n",
    "iteration_id = None\n",
    "for iteration in trainer.get_iterations(PROJECT_ID):\n",
    "    if iteration.name == ITERATION_NAME:\n",
    "        iteration_id = iteration.id\n",
    "        break\n",
    "\n",
    "if iteration_id == None:\n",
    "    print(\"Could not find the iteration\")\n",
    "else:\n",
    "    print(\"Requesting export for Iteration ID: {0}\".format(iteration_id))\n",
    "    try:\n",
    "        trainer.export_iteration(PROJECT_ID, iteration_id, platform='DockerFile', flavor='Linux')\n",
    "    except:\n",
    "        print(\"Error while requesting export. Most likely the export already exists\")\n",
    "    "
   ]
  },
  {
   "cell_type": "markdown",
   "metadata": {},
   "source": [
    "### Wait till the export is ready\n"
   ]
  },
  {
   "cell_type": "code",
   "execution_count": null,
   "metadata": {},
   "outputs": [],
   "source": [
    "import time\n",
    "\n",
    "download_uri = None\n",
    "while True:\n",
    "    # Check the list of exports\n",
    "    exports = trainer.get_exports(PROJECT_ID, iteration_id)\n",
    "    if exports[0].status == 'Done':\n",
    "        print(\"Export succeded\")\n",
    "        download_uri = exports[0].download_uri\n",
    "        break\n",
    "    elif exports[0].status == 'Failed':\n",
    "        print(\"Export failed\")\n",
    "        break\n",
    "    # Wait a little bit\n",
    "    print(\"Going to sleep for a few seconds\")\n",
    "    time.sleep(10)\n",
    "        "
   ]
  },
  {
   "cell_type": "markdown",
   "metadata": {},
   "source": [
    "### Download the package"
   ]
  },
  {
   "cell_type": "code",
   "execution_count": null,
   "metadata": {},
   "outputs": [],
   "source": [
    "import wget\n",
    "import os\n",
    "\n",
    "download_filename = 'docker_export.zip'\n",
    "\n",
    "if download_uri != None:\n",
    "    print(\"Downloading from: {0}\".format(download_uri))\n",
    "    wget.download(download_uri, download_filename)"
   ]
  },
  {
   "cell_type": "code",
   "execution_count": null,
   "metadata": {},
   "outputs": [],
   "source": [
    "%%sh\n",
    "ls -l "
   ]
  },
  {
   "cell_type": "code",
   "execution_count": null,
   "metadata": {},
   "outputs": [],
   "source": [
    "%%sh\n",
    "unzip docker_export.zip -d docker_export"
   ]
  },
  {
   "cell_type": "code",
   "execution_count": null,
   "metadata": {},
   "outputs": [],
   "source": [
    "%%sh\n",
    "ls -l docker_export"
   ]
  },
  {
   "cell_type": "markdown",
   "metadata": {},
   "source": [
    "### Review the exported package\n",
    "Your instructor will guide you through the content of the exported package\n"
   ]
  },
  {
   "cell_type": "markdown",
   "metadata": {},
   "source": []
  }
 ],
 "metadata": {
  "kernelspec": {
   "display_name": "Python 3",
   "language": "python",
   "name": "python3"
  },
  "language_info": {
   "codemirror_mode": {
    "name": "ipython",
    "version": 3
   },
   "file_extension": ".py",
   "mimetype": "text/x-python",
   "name": "python",
   "nbconvert_exporter": "python",
   "pygments_lexer": "ipython3",
   "version": "3.5.5"
  }
 },
 "nbformat": 4,
 "nbformat_minor": 2
}
